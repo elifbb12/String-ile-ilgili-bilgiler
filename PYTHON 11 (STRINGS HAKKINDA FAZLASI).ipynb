{
 "cells": [
  {
   "cell_type": "code",
   "execution_count": null,
   "metadata": {},
   "outputs": [],
   "source": [
    "#Python, tek tek karakterlere erişmek için birkaç yol sağlar\n",
    "#bir dizede. Dizelerin ayrıca gerçekleştirmenize izin veren yöntemleri vardır."
   ]
  },
  {
   "cell_type": "code",
   "execution_count": 2,
   "metadata": {},
   "outputs": [
    {
     "name": "stdout",
     "output_type": "stream",
     "text": [
      "e\n",
      "l\n",
      "i\n",
      "f\n"
     ]
    }
   ],
   "source": [
    "ayikla=\"elif\"\n",
    "for isim in ayikla:\n",
    "    print(isim)"
   ]
  },
  {
   "cell_type": "code",
   "execution_count": 5,
   "metadata": {},
   "outputs": [
    {
     "name": "stdout",
     "output_type": "stream",
     "text": [
      "metin giriniz: elif büyükbatmaz\n",
      "A harfinin kullanılma tekrarı 2\n"
     ]
    }
   ],
   "source": [
    "#harf bulmak için\n",
    "sayac =0\n",
    "metin=input(\"metin giriniz: \")\n",
    "for say in metin:\n",
    "    if say==\"A\" or say==\"a\":\n",
    "        sayac+=1\n",
    "print(\"A harfinin kullanılma tekrarı: \", sayac)"
   ]
  },
  {
   "cell_type": "code",
   "execution_count": 7,
   "metadata": {},
   "outputs": [
    {
     "name": "stdout",
     "output_type": "stream",
     "text": [
      "ü\n"
     ]
    }
   ],
   "source": [
    "metin=\"elif büyükbatmaz\"\n",
    "goster=metin[6]\n",
    "print(goster)"
   ]
  },
  {
   "cell_type": "code",
   "execution_count": 8,
   "metadata": {},
   "outputs": [
    {
     "name": "stdout",
     "output_type": "stream",
     "text": [
      "b\n"
     ]
    }
   ],
   "source": [
    "metin=\"elif büyükbatmaz\"\n",
    "goster=metin[-6]\n",
    "print(goster)"
   ]
  },
  {
   "cell_type": "code",
   "execution_count": 11,
   "metadata": {},
   "outputs": [
    {
     "name": "stdout",
     "output_type": "stream",
     "text": [
      "elif buyukbatmaz\n"
     ]
    }
   ],
   "source": [
    "birlestir=\"elif\"+ \" \" +\"buyukbatmaz\"\n",
    "print(birlestir)"
   ]
  },
  {
   "cell_type": "code",
   "execution_count": 12,
   "metadata": {},
   "outputs": [
    {
     "name": "stdout",
     "output_type": "stream",
     "text": [
      "abcdef\n"
     ]
    }
   ],
   "source": [
    "harf=\"abc\"\n",
    "harf+=\"def\"\n",
    "print(harf)"
   ]
  },
  {
   "cell_type": "code",
   "execution_count": null,
   "metadata": {},
   "outputs": [],
   "source": [
    "string[start: end] #dilimleme"
   ]
  },
  {
   "cell_type": "code",
   "execution_count": 19,
   "metadata": {},
   "outputs": [
    {
     "name": "stdout",
     "output_type": "stream",
     "text": [
      "elif\n",
      "büyükbatmaz\n",
      "elif büyükbatmaz\n"
     ]
    }
   ],
   "source": [
    "tamisim =\"elif büyükbatmaz\"\n",
    "sadeceisim=tamisim[:4]\n",
    "print(sadeceisim)\n",
    "sadecesoyad=tamisim[5:] # eksilide yazılabilir.\n",
    "print(sadecesoyad)\n",
    "tam =tamisim[:]\n",
    "print(tam)"
   ]
  },
  {
   "cell_type": "code",
   "execution_count": 21,
   "metadata": {},
   "outputs": [
    {
     "name": "stdout",
     "output_type": "stream",
     "text": [
      "elif büyükbatmaz\n"
     ]
    }
   ],
   "source": [
    "tamisim =\"elif büyükbatmaz\"\n",
    "deneme=tamisim[0:len(tamisim)]\n",
    "print(deneme)"
   ]
  },
  {
   "cell_type": "code",
   "execution_count": 4,
   "metadata": {},
   "outputs": [
    {
     "name": "stdout",
     "output_type": "stream",
     "text": [
      "ADINIZIN  GİRİNİZ: elif\n",
      "SOYADINIZIN  GİRİNİZ: bürcu\n",
      "TCNİZİN GİRİNİZ: 353463473\n",
      "kullanıcı adınız: \n"
     ]
    },
    {
     "ename": "NameError",
     "evalue": "name 'soyadi' is not defined",
     "output_type": "error",
     "traceback": [
      "\u001b[1;31m---------------------------------------------------------------------------\u001b[0m",
      "\u001b[1;31mNameError\u001b[0m                                 Traceback (most recent call last)",
      "\u001b[1;32m<ipython-input-4-0520ea5d8a57>\u001b[0m in \u001b[0;36m<module>\u001b[1;34m\u001b[0m\n\u001b[0;32m     11\u001b[0m     \u001b[0mbilgi_toplam\u001b[0m\u001b[1;33m=\u001b[0m\u001b[0mal1\u001b[0m\u001b[1;33m+\u001b[0m\u001b[0mal2\u001b[0m\u001b[1;33m+\u001b[0m\u001b[0mal3\u001b[0m\u001b[1;33m\u001b[0m\u001b[1;33m\u001b[0m\u001b[0m\n\u001b[0;32m     12\u001b[0m     \u001b[1;32mreturn\u001b[0m \u001b[0mbilgi_toplam\u001b[0m\u001b[1;33m\u001b[0m\u001b[1;33m\u001b[0m\u001b[0m\n\u001b[1;32m---> 13\u001b[1;33m \u001b[0mmain\u001b[0m\u001b[1;33m(\u001b[0m\u001b[1;33m)\u001b[0m\u001b[1;33m\u001b[0m\u001b[1;33m\u001b[0m\u001b[0m\n\u001b[0m\u001b[0;32m     14\u001b[0m \u001b[1;33m\u001b[0m\u001b[0m\n",
      "\u001b[1;32m<ipython-input-4-0520ea5d8a57>\u001b[0m in \u001b[0;36mmain\u001b[1;34m()\u001b[0m\n\u001b[0;32m      4\u001b[0m     \u001b[0mtc\u001b[0m\u001b[1;33m=\u001b[0m\u001b[0mint\u001b[0m\u001b[1;33m(\u001b[0m\u001b[0minput\u001b[0m\u001b[1;33m(\u001b[0m\u001b[1;34m\"TCNİZİN GİRİNİZ: \"\u001b[0m\u001b[1;33m)\u001b[0m\u001b[1;33m)\u001b[0m\u001b[1;33m\u001b[0m\u001b[1;33m\u001b[0m\u001b[0m\n\u001b[0;32m      5\u001b[0m     \u001b[0mprint\u001b[0m\u001b[1;33m(\u001b[0m\u001b[1;34m\"kullanıcı adınız: \"\u001b[0m\u001b[1;33m)\u001b[0m\u001b[1;33m\u001b[0m\u001b[1;33m\u001b[0m\u001b[0m\n\u001b[1;32m----> 6\u001b[1;33m     \u001b[0mprint\u001b[0m\u001b[1;33m(\u001b[0m\u001b[0mbilgi\u001b[0m\u001b[1;33m(\u001b[0m\u001b[0madi\u001b[0m\u001b[1;33m,\u001b[0m\u001b[0msoyad\u001b[0m\u001b[1;33m,\u001b[0m\u001b[0mtc\u001b[0m\u001b[1;33m)\u001b[0m\u001b[1;33m)\u001b[0m\u001b[1;33m\u001b[0m\u001b[1;33m\u001b[0m\u001b[0m\n\u001b[0m\u001b[0;32m      7\u001b[0m \u001b[1;32mdef\u001b[0m \u001b[0mbilgi\u001b[0m\u001b[1;33m(\u001b[0m\u001b[0madi\u001b[0m\u001b[1;33m,\u001b[0m\u001b[0msoyad\u001b[0m\u001b[1;33m,\u001b[0m\u001b[0mtc\u001b[0m\u001b[1;33m)\u001b[0m\u001b[1;33m:\u001b[0m\u001b[1;33m\u001b[0m\u001b[1;33m\u001b[0m\u001b[0m\n\u001b[0;32m      8\u001b[0m     \u001b[0mal1\u001b[0m\u001b[1;33m=\u001b[0m\u001b[0madi\u001b[0m\u001b[1;33m[\u001b[0m\u001b[1;36m0\u001b[0m\u001b[1;33m:\u001b[0m\u001b[1;36m3\u001b[0m\u001b[1;33m]\u001b[0m\u001b[1;33m\u001b[0m\u001b[1;33m\u001b[0m\u001b[0m\n",
      "\u001b[1;32m<ipython-input-4-0520ea5d8a57>\u001b[0m in \u001b[0;36mbilgi\u001b[1;34m(adi, soyad, tc)\u001b[0m\n\u001b[0;32m      7\u001b[0m \u001b[1;32mdef\u001b[0m \u001b[0mbilgi\u001b[0m\u001b[1;33m(\u001b[0m\u001b[0madi\u001b[0m\u001b[1;33m,\u001b[0m\u001b[0msoyad\u001b[0m\u001b[1;33m,\u001b[0m\u001b[0mtc\u001b[0m\u001b[1;33m)\u001b[0m\u001b[1;33m:\u001b[0m\u001b[1;33m\u001b[0m\u001b[1;33m\u001b[0m\u001b[0m\n\u001b[0;32m      8\u001b[0m     \u001b[0mal1\u001b[0m\u001b[1;33m=\u001b[0m\u001b[0madi\u001b[0m\u001b[1;33m[\u001b[0m\u001b[1;36m0\u001b[0m\u001b[1;33m:\u001b[0m\u001b[1;36m3\u001b[0m\u001b[1;33m]\u001b[0m\u001b[1;33m\u001b[0m\u001b[1;33m\u001b[0m\u001b[0m\n\u001b[1;32m----> 9\u001b[1;33m     \u001b[0mal2\u001b[0m\u001b[1;33m=\u001b[0m\u001b[0msoyadi\u001b[0m\u001b[1;33m[\u001b[0m\u001b[1;36m0\u001b[0m\u001b[1;33m:\u001b[0m\u001b[1;36m3\u001b[0m\u001b[1;33m]\u001b[0m\u001b[1;33m\u001b[0m\u001b[1;33m\u001b[0m\u001b[0m\n\u001b[0m\u001b[0;32m     10\u001b[0m     \u001b[0mal3\u001b[0m\u001b[1;33m=\u001b[0m\u001b[0mtc\u001b[0m\u001b[1;33m[\u001b[0m\u001b[1;36m0\u001b[0m\u001b[1;33m:\u001b[0m\u001b[1;36m3\u001b[0m\u001b[1;33m]\u001b[0m\u001b[1;33m\u001b[0m\u001b[1;33m\u001b[0m\u001b[0m\n\u001b[0;32m     11\u001b[0m     \u001b[0mbilgi_toplam\u001b[0m\u001b[1;33m=\u001b[0m\u001b[0mal1\u001b[0m\u001b[1;33m+\u001b[0m\u001b[0mal2\u001b[0m\u001b[1;33m+\u001b[0m\u001b[0mal3\u001b[0m\u001b[1;33m\u001b[0m\u001b[1;33m\u001b[0m\u001b[0m\n",
      "\u001b[1;31mNameError\u001b[0m: name 'soyadi' is not defined"
     ]
    }
   ],
   "source": [
    "\n",
    "def main():\n",
    "    adi= input(\"ADINIZIN  GİRİNİZ: \")\n",
    "    soyad=input(\"SOYADINIZIN  GİRİNİZ: \")\n",
    "    tc=int(input(\"TCNİZİN GİRİNİZ: \"))\n",
    "    print(\"kullanıcı adınız: \")\n",
    "    print(bilgi(adi,soyad,tc))\n",
    "def bilgi(adi,soyad,tc):\n",
    "    al1=adi[0:3]\n",
    "    al2=soyadi[0:3]\n",
    "    al3=tc[0:3]\n",
    "    bilgi_toplam=al1+al2+al3\n",
    "    return bilgi_toplam\n",
    "main()\n",
    "    \n"
   ]
  },
  {
   "cell_type": "code",
   "execution_count": 8,
   "metadata": {},
   "outputs": [
    {
     "name": "stdout",
     "output_type": "stream",
     "text": [
      "girdiğiniz metinde \"bilgisayar\" içeriyor\n"
     ]
    }
   ],
   "source": [
    "metin=\"bilgisayar mühendisliği bölümü\"\n",
    "if \"bilgisayar\" in metin:\n",
    "    print('girdiğiniz metinde \"bilgisayar\" içeriyor.')\n",
    "else:\n",
    "    print('girdiğiniz metinde \"bilgisayar\" kelimesini içermiyor.')"
   ]
  },
  {
   "cell_type": "code",
   "execution_count": 9,
   "metadata": {},
   "outputs": [
    {
     "name": "stdout",
     "output_type": "stream",
     "text": [
      "girdiğiniz metinde \"bilgisayar\" içeriyor.\n"
     ]
    }
   ],
   "source": [
    "metin=\"bilgisayar mühendisliği bölümü\"\n",
    "if \"bilgisayar\"  not in metin:\n",
    "   print('girdiğiniz metinde \"bilgisayar\" kelimesini içermiyor.')\n",
    "else:\n",
    "    \n",
    "    print('girdiğiniz metinde \"bilgisayar\" içeriyor.')"
   ]
  },
  {
   "cell_type": "code",
   "execution_count": null,
   "metadata": {},
   "outputs": [],
   "source": [
    "#STRING KARAKTER DİZİ METOTLARI"
   ]
  },
  {
   "cell_type": "code",
   "execution_count": 2,
   "metadata": {},
   "outputs": [
    {
     "name": "stdout",
     "output_type": "stream",
     "text": [
      "Mobilhaben.com python dersleri\n"
     ]
    }
   ],
   "source": [
    "#Capitalize Metodu:\n",
    "#Bu metot bir Karakter dizisi içindeki ilk harfi büyük harfe çevirir.\n",
    "\n",
    "metin =\"mobilhaben.com python dersleri\"\n",
    "print(metin.capitalize())"
   ]
  },
  {
   "cell_type": "code",
   "execution_count": 3,
   "metadata": {},
   "outputs": [
    {
     "name": "stdout",
     "output_type": "stream",
     "text": [
      "Mobilhaben.Com Python Dersleri\n"
     ]
    }
   ],
   "source": [
    "#Title Metodu:\n",
    "#Capitalize metodu karakter dizinin ilk harfini büyük harfe çeviriyordu bu metot \n",
    "#ise Karakter dizisi içindeki bütün kelimelerin ilk harfini büyük harfe çevirir.\n",
    "\n",
    "metin =\"mobilhaben.com python dersleri\"\n",
    "print(metin.title())\n",
    " "
   ]
  },
  {
   "cell_type": "code",
   "execution_count": null,
   "metadata": {},
   "outputs": [],
   "source": [
    "#Count Metodu:\n",
    "#Bu metot bir karakter dizisi içindeki istenilen karakterden kaç tane olduğunu bulmaya yarar.\n",
    "\n",
    "metin =\"Mobilhanem.com Python Dersleri\"\n",
    "print(metin.count(\"e\"))"
   ]
  },
  {
   "cell_type": "code",
   "execution_count": 5,
   "metadata": {},
   "outputs": [
    {
     "name": "stdout",
     "output_type": "stream",
     "text": [
      "mobi̇lhanem\n",
      "MOBILHANEM\n",
      "mOBILHANEM\n"
     ]
    }
   ],
   "source": [
    "#Swapcase Metodu:\n",
    "#Bu metot eğer harf küçük ise büyük harfe çevirir eğer büyükse küçük harfe çevirir.\n",
    "\n",
    "metin =\"MOBİLHANEM\"\n",
    "print(metin.swapcase())\n",
    " \n",
    "\n",
    " \n",
    "metin1 =\"mobilhanem\"\n",
    "print(metin1.swapcase())\n",
    " \n",
    "\n",
    " \n",
    "metin2 =\"Mobilhanem\"\n",
    "print(metin2.swapcase())\n"
   ]
  },
  {
   "cell_type": "code",
   "execution_count": null,
   "metadata": {},
   "outputs": [],
   "source": [
    "#Center Metodu:\n",
    "#Bu metot ile belirtildiği miktar kadar karakteri sağdan ve soldan boşluk bırakarak ortalar.\n",
    "\n",
    "metin =\"Python\"\n",
    "print(metin.center(5))\n",
    "#Eğer sadece sağında veya solunda boşluk bırakmak istiyorsanız; rjust ve ljust metotlarına bakabilirsiniz."
   ]
  },
  {
   "cell_type": "code",
   "execution_count": 6,
   "metadata": {},
   "outputs": [
    {
     "name": "stdout",
     "output_type": "stream",
     "text": [
      "00Python\n"
     ]
    }
   ],
   "source": [
    "#Zfill Metodu:\n",
    "#Biz center, rjust ve ljust metotları ile dizinin sağında veya solunda \n",
    "#boşluk atıyorduk bu metot ile karakter dizimizi karakter belirttiğimiz karakter \n",
    "#sayısından ne kadar az ise başına o kadar sıfır ekler örnekle gösterince daha iyi anlayacaksınız.\n",
    "\n",
    "metin =\"Python\"\n",
    "print(metin.zfill(8))\n",
    "\n",
    "\n",
    "#Biz karakter dizinin 8 karakterli olmasını istiyoruz ama karakter dizisi 6 karakterli olduğu için 2 tane sıfır başa ekledi."
   ]
  },
  {
   "cell_type": "code",
   "execution_count": null,
   "metadata": {},
   "outputs": [],
   "source": [
    "#Replace Metodu:\n",
    "#Bu metot Karakter dizisi içindeki bir karakteri başka bir karaktere çevirir örneğin:\n",
    "\n",
    "metin =\"Mobilhanem.com Python Dersleri\"\n",
    "print(metin.replace(\"e\",\"x\"))\n",
    "#E harflerini x harfleri ile değiştirdim."
   ]
  },
  {
   "cell_type": "code",
   "execution_count": null,
   "metadata": {},
   "outputs": [],
   "source": [
    "#isalnum() alfabetik ve nümerik\n",
    "#isdigit() sadece sayı\n",
    "#isalpha() sadece alfabetik\n",
    "#islower() hepsi küçük mü\n",
    "#isupper() hepsi büyük mü\n",
    "#isspace() girilen metin boş mu?"
   ]
  },
  {
   "cell_type": "code",
   "execution_count": 15,
   "metadata": {},
   "outputs": [
    {
     "name": "stdout",
     "output_type": "stream",
     "text": [
      "banana\n"
     ]
    }
   ],
   "source": [
    "txt = \",,,,,ssaaww.....banana\"\n",
    "\n",
    "x = txt.lstrip(\",.asw\")\n",
    "\n",
    "print(x)\n"
   ]
  },
  {
   "cell_type": "code",
   "execution_count": null,
   "metadata": {},
   "outputs": [],
   "source": [
    "#ARAMA VE YER DEĞİŞTİRME"
   ]
  },
  {
   "cell_type": "code",
   "execution_count": 17,
   "metadata": {},
   "outputs": [
    {
     "data": {
      "text/plain": [
       "True"
      ]
     },
     "execution_count": 17,
     "metadata": {},
     "output_type": "execute_result"
    }
   ],
   "source": [
    "metin =\"Python\"\n",
    "metin.endswith(\"n\")"
   ]
  },
  {
   "cell_type": "code",
   "execution_count": 18,
   "metadata": {},
   "outputs": [
    {
     "data": {
      "text/plain": [
       "5"
      ]
     },
     "execution_count": 18,
     "metadata": {},
     "output_type": "execute_result"
    }
   ],
   "source": [
    "metin =\"Python\"\n",
    "metin.find(\"n\")"
   ]
  },
  {
   "cell_type": "code",
   "execution_count": 19,
   "metadata": {},
   "outputs": [
    {
     "data": {
      "text/plain": [
       "'rlif'"
      ]
     },
     "execution_count": 19,
     "metadata": {},
     "output_type": "execute_result"
    }
   ],
   "source": [
    "metin=\"elif\"\n",
    "metin.replace(\"e\",\"r\")"
   ]
  },
  {
   "cell_type": "code",
   "execution_count": 20,
   "metadata": {},
   "outputs": [
    {
     "data": {
      "text/plain": [
       "False"
      ]
     },
     "execution_count": 20,
     "metadata": {},
     "output_type": "execute_result"
    }
   ],
   "source": [
    "metin =\"Python\"\n",
    "metin.startswith(\"n\")"
   ]
  },
  {
   "cell_type": "code",
   "execution_count": 2,
   "metadata": {},
   "outputs": [
    {
     "name": "stdout",
     "output_type": "stream",
     "text": [
      "hellohellohellohellohello\n"
     ]
    }
   ],
   "source": [
    "print(\"hello\"*5)"
   ]
  },
  {
   "cell_type": "code",
   "execution_count": 5,
   "metadata": {},
   "outputs": [
    {
     "name": "stdout",
     "output_type": "stream",
     "text": [
      "['bilgisayar', 'mühendisliği', 'bölümü']\n"
     ]
    }
   ],
   "source": [
    "metin=\"bilgisayar mühendisliği bölümü\"\n",
    "new=metin.split()\n",
    "print(new)"
   ]
  }
 ],
 "metadata": {
  "kernelspec": {
   "display_name": "Python 3",
   "language": "python",
   "name": "python3"
  },
  "language_info": {
   "codemirror_mode": {
    "name": "ipython",
    "version": 3
   },
   "file_extension": ".py",
   "mimetype": "text/x-python",
   "name": "python",
   "nbconvert_exporter": "python",
   "pygments_lexer": "ipython3",
   "version": "3.8.3"
  }
 },
 "nbformat": 4,
 "nbformat_minor": 4
}
