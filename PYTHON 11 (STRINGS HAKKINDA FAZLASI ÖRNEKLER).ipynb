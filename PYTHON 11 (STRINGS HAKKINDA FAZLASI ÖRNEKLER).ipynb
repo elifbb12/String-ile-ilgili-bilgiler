{
 "cells": [
  {
   "cell_type": "code",
   "execution_count": 11,
   "metadata": {},
   "outputs": [
    {
     "name": "stdout",
     "output_type": "stream",
     "text": [
      " isminizi giriniz: el\n",
      "ortanca isminizi giriniz: bu\n",
      "soyadınızı giriniz: ok\n",
      "e,b,o\n"
     ]
    }
   ],
   "source": [
    "\n",
    "ad=input(\" isminizi giriniz: \")\n",
    "orta_ad=input(\"ortanca isminizi giriniz: \")    \n",
    "soyad=input(\"soyadınızı giriniz: \")\n",
    "\n",
    "ilkdeger=ad[0]\n",
    "ikincideger=orta_ad[0]\n",
    "sondeger=soyad[0]\n",
    "\n",
    "print(ilkdeger,ikincideger,sondeger,sep=\",\")"
   ]
  },
  {
   "cell_type": "code",
   "execution_count": null,
   "metadata": {},
   "outputs": [],
   "source": [
    "sayi=int(input(\"Basamaklarının toplanmasını istediğiniz sayıyı giriniz: \"))\n",
    "sayi.split()\n",
    "#sayfa 938"
   ]
  }
 ],
 "metadata": {
  "kernelspec": {
   "display_name": "Python 3",
   "language": "python",
   "name": "python3"
  },
  "language_info": {
   "codemirror_mode": {
    "name": "ipython",
    "version": 3
   },
   "file_extension": ".py",
   "mimetype": "text/x-python",
   "name": "python",
   "nbconvert_exporter": "python",
   "pygments_lexer": "ipython3",
   "version": "3.8.3"
  }
 },
 "nbformat": 4,
 "nbformat_minor": 4
}
